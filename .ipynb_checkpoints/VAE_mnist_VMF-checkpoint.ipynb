{
 "cells": [
  {
   "cell_type": "markdown",
   "metadata": {},
   "source": [
    "# VAEs in Keras plus my additional notes"
   ]
  },
  {
   "cell_type": "code",
   "execution_count": null,
   "metadata": {
    "scrolled": true
   },
   "outputs": [],
   "source": [
    "import keras\n",
    "keras.__version__\n",
    "\n",
    "import numpy as np\n",
    "import tensorflow as tf\n",
    "import tensorflow_probability as tfp\n",
    "import tensorflow as tf\n",
    "import matplotlib.pyplot as plt\n",
    "\n",
    "tfd = tfp.distributions\n",
    "\n",
    "from keras import backend as K\n",
    "from keras import layers\n",
    "from keras.models import Model\n",
    "import numpy as np\n",
    "K.clear_session()"
   ]
  },
  {
   "cell_type": "code",
   "execution_count": null,
   "metadata": {
    "scrolled": true
   },
   "outputs": [],
   "source": [
    "img_shape = (28, 28, 1)\n",
    "batch_size = 32\n",
    "latent_dim = 3\n",
    "\n",
    "input_img = keras.Input(shape=img_shape)\n",
    "encoder_input = input_img\n",
    "\n",
    "x = layers.Conv2D(32, 3, padding='same', \n",
    "                  activation='relu')(input_img)\n",
    "x = layers.Conv2D(64, 3, padding='same',\n",
    "                 activation='relu',\n",
    "                 strides=(2,2))(x)\n",
    "x = layers.Conv2D(64, 3,\n",
    "                  padding='same', activation='relu')(x)\n",
    "x = layers.Conv2D(64, 3,\n",
    "                  padding='same', activation='relu')(x)\n",
    "shape_before_flattening = K.int_shape(x)\n",
    "# int_shape returns a tuple of ints or Nones\n",
    "\n",
    "x = layers.Flatten()(x)\n",
    "x = layers.Dense(32, activation='relu')(x)\n",
    "\n"
   ]
  },
  {
   "cell_type": "code",
   "execution_count": null,
   "metadata": {},
   "outputs": [],
   "source": [
    "z_mean = layers.Dense(latent_dim, activation=None)(x)\n",
    "def normalize(args):\n",
    "    z_mean = args\n",
    "    return tf.nn.l2_normalize(z_mean, axis=-1)\n",
    "\n",
    "z_mu = layers.Lambda(normalize)(z_mean)\n",
    "encoder = Model(encoder_input, z_mu)\n",
    "z_log_var = layers.Dense(latent_dim)(x)\n",
    "z_log_concentration = layers.Dense(1)(x)"
   ]
  },
  {
   "cell_type": "code",
   "execution_count": null,
   "metadata": {},
   "outputs": [],
   "source": [
    "from hyperspherical_vae.distributions import VonMisesFisher as VMS\n",
    "\n",
    "vmf = tfd.VonMisesFisher\n",
    "vmf_2 = VMS"
   ]
  },
  {
   "cell_type": "code",
   "execution_count": null,
   "metadata": {},
   "outputs": [],
   "source": [
    "def sampling(args):\n",
    "    z_mu, z_log_concentration = args\n",
    "    vmf_current = vmf(mean_direction=z_mu, \n",
    "                      concentration=K.reshape(K.exp(z_log_concentration), (-1,)))\n",
    "    \n",
    "    return vmf_current.sample()#sample_shape=z_mu.shape)"
   ]
  },
  {
   "cell_type": "markdown",
   "metadata": {},
   "source": [
    "### Note: An example of Lambda layer"
   ]
  },
  {
   "cell_type": "code",
   "execution_count": null,
   "metadata": {},
   "outputs": [],
   "source": [
    "z = layers.Lambda(sampling)([z_mu, z_log_concentration])\n",
    "# the syntax is as follows:\n",
    "# (sampling) is  the function apllied to the layers\n",
    "# [z_mean, z_log_var] is the list of input layers"
   ]
  },
  {
   "cell_type": "code",
   "execution_count": null,
   "metadata": {},
   "outputs": [],
   "source": [
    "decoder_input = layers.Input(K.int_shape(z)[1:])\n",
    "# [1:] means that we skip the batch size, witch we do not\n",
    "# inclute in Input layer\n",
    "\n",
    "# Upsample to the correct number of units\n",
    "w = layers.Dense(np.prod(shape_before_flattening[1:]),\n",
    "                activation='relu')(decoder_input)\n",
    "\n",
    "# Reshape into an image of the same shape as before our last `Flatten` \n",
    "w = layers.Reshape(shape_before_flattening[1:])(w)\n",
    "\n",
    "# Deconvolution\n",
    "w = layers.Conv2DTranspose(32, 3,\n",
    "                          padding='same',\n",
    "                          activation='relu',\n",
    "                          strides=(2,2))(w)\n",
    "w = layers.Conv2DTranspose(1, 3,\n",
    "                          padding='same', activation='sigmoid')(w)\n",
    "\n",
    "decoder = Model(decoder_input, w)\n",
    "z_decoded = decoder(z)\n",
    "\n"
   ]
  },
  {
   "cell_type": "markdown",
   "metadata": {},
   "source": [
    "### Note: Custom Keras layer example"
   ]
  },
  {
   "cell_type": "code",
   "execution_count": null,
   "metadata": {},
   "outputs": [],
   "source": [
    "class CustomVariationalLayer(keras.layers.Layer):\n",
    "    \n",
    "    def vae_loss(self, x, z_decoded):\n",
    "        x = K.flatten(x)\n",
    "        z_decoded = K.flatten(z_decoded)\n",
    "        # now the tensor shape is (batch_size, flattened)\n",
    "        xent_loss = K.mean(keras.metrics.binary_crossentropy(x, z_decoded))\n",
    "        #js_loss = None\n",
    "        #w_loss = 5e-4 * K.mean(K.square(z_mean) + 1 +  K.exp(z_log_var) - 2 * K.sqrt(K.exp(z_log_var)))\n",
    "        #kl_loss = -5e-4 * K.mean(1 + z_log_var - K.square(z_mean) - K.exp(z_log_var), axis=-1)\n",
    "        kl_vmf_loss = K.mean(K.minimum(K.exp(z_log_concentration), 0.5))\n",
    "        return xent_loss + 0.03*kl_vmf_loss\n",
    "        #return kl_vmf_loss\n",
    "    def call(self, inputs):\n",
    "        x = inputs[0]\n",
    "        z_decoded = inputs[1]\n",
    "        loss = self.vae_loss(x, z_decoded)\n",
    "        self.add_loss(loss, inputs=inputs)\n",
    "        return x                      "
   ]
  },
  {
   "cell_type": "code",
   "execution_count": null,
   "metadata": {},
   "outputs": [],
   "source": [
    "y = CustomVariationalLayer()([input_img, z_decoded])"
   ]
  },
  {
   "cell_type": "code",
   "execution_count": null,
   "metadata": {},
   "outputs": [],
   "source": [
    "from keras.datasets import mnist\n",
    "\n",
    "vae = Model(input_img, y)\n",
    "vae.compile(optimizer='rmsprop', loss=None)\n",
    "vae.summary()"
   ]
  },
  {
   "cell_type": "code",
   "execution_count": null,
   "metadata": {
    "scrolled": false
   },
   "outputs": [],
   "source": [
    "# Train the VAE on MNIST digits\n",
    "(x_train, _), (x_test, y_test) = mnist.load_data()\n",
    "\n",
    "x_train = x_train.astype('float32') / 255.\n",
    "x_train = x_train.reshape(x_train.shape + (1,))\n",
    "x_test = x_test.astype('float32') / 255.\n",
    "x_test = x_test.reshape(x_test.shape + (1,))\n",
    "\n",
    "vae.fit(x=x_train, y=None,\n",
    "        shuffle=True,\n",
    "        epochs=10,\n",
    "        batch_size=batch_size,\n",
    "        validation_data=(x_test, None))"
   ]
  },
  {
   "cell_type": "markdown",
   "metadata": {},
   "source": [
    "## Plotting the generated samples"
   ]
  },
  {
   "cell_type": "code",
   "execution_count": null,
   "metadata": {},
   "outputs": [],
   "source": [
    "z_sample = tfd.VonMisesFisher(mean_direction=[1., 0., 0.], \n",
    "                              concentration=0.).sample(sample_shape=(100))\n",
    "sess = K.get_session()\n",
    "z_sample_ = sess.run(z_sample)\n",
    "generated = decoder.predict(z_sample_, batch_size=batch_size)"
   ]
  },
  {
   "cell_type": "code",
   "execution_count": null,
   "metadata": {},
   "outputs": [],
   "source": [
    "fig, axes = plt.subplots(10, 10, figsize=(10,10))\n",
    "for j in range(10*10):\n",
    "    axes[j//10, j%10].imshow(generated[j,:,:,0], cmap='binary')\n",
    "    axes[j//10, j%10].set_xticks([])\n",
    "    axes[j//10, j%10].set_yticks([])\n",
    "plt.tight_layout()\n",
    "plt.show()"
   ]
  },
  {
   "cell_type": "markdown",
   "metadata": {},
   "source": [
    "## Plotting latent space representation"
   ]
  },
  {
   "cell_type": "code",
   "execution_count": null,
   "metadata": {},
   "outputs": [],
   "source": [
    "num_samples =5000\n",
    "samples = x_test[:num_samples]\n",
    "codes = encoder.predict(samples)\n",
    "labels = y_test[:num_samples]"
   ]
  },
  {
   "cell_type": "code",
   "execution_count": null,
   "metadata": {},
   "outputs": [],
   "source": [
    "labels.shape"
   ]
  },
  {
   "cell_type": "code",
   "execution_count": null,
   "metadata": {
    "scrolled": true
   },
   "outputs": [],
   "source": [
    "codes[:10]"
   ]
  },
  {
   "cell_type": "code",
   "execution_count": null,
   "metadata": {},
   "outputs": [],
   "source": [
    "from mpl_toolkits.mplot3d import Axes3D\n",
    "from matplotlib import cm\n",
    "#%matplotlib notebook\n",
    "\n",
    "\n",
    "    \n",
    "colors = ['red', 'orange', 'green', 'yellow', 'plum', \n",
    "        'navy', 'salmon', 'skyblue', 'darkred', 'aqua']\n",
    "\n",
    "data = []\n",
    "group_names = []\n",
    "for j in np.unique(labels):\n",
    "    data.append(codes[labels.reshape(-1)==j])\n",
    "    group_names.append(j)"
   ]
  },
  {
   "cell_type": "code",
   "execution_count": null,
   "metadata": {},
   "outputs": [],
   "source": [
    "%matplotlib notebook\n",
    "fig = plt.figure(figsize=(6,6))\n",
    "ax = Axes3D(fig)\n",
    "#ax.view_init(30, angle)\n",
    "for datapart, group_name, color in zip (data, group_names, colors):\n",
    "    x, y, z = datapart[:,0], datapart[:,1], datapart[:,2]\n",
    "    ax.scatter(x, y, z, alpha=0.8, edgecolors='none', s=30, label=group_name, c=color)\n",
    "    #ax.scatter(codes[:,0], codes[:,1], codes[:,2], c=labels, label=labels)\n",
    "\n",
    "u = np.linspace(0, np.pi, 30)\n",
    "v = np.linspace(0, 2 * np.pi, 30)\n",
    "\n",
    "x = np.outer(np.sin(u), np.sin(v))\n",
    "y = np.outer(np.sin(u), np.cos(v))\n",
    "z = np.outer(np.cos(u), np.ones_like(v))\n",
    "\n",
    "#ax.plot_wireframe(x, y, z, rstride=2, cstride=2, alpha=0.2)\n",
    "\n",
    "plt.legend()\n",
    "ax.set_xticks([])\n",
    "ax.set_yticks([])\n",
    "ax.set_zticks([])\n",
    "\n",
    "ax.plot_surface(x, y, z,  rstride=4, cstride=4, color='white', linewidth=0, alpha=1.)\n",
    "plt.show()"
   ]
  },
  {
   "cell_type": "raw",
   "metadata": {},
   "source": [
    "for angle in range(0,360,60):\n",
    "    fig = plt.figure(figsize=(8,8))\n",
    "    ax = ax = Axes3D(fig)\n",
    "    #ax.view_init(30, angle)\n",
    "    for datapart, group_name, color in zip (data, group_names, colors):\n",
    "        x, y, z = datapart[:,0], datapart[:,1], datapart[:,2]\n",
    "        ax.scatter(x, y, z, alpha=0.8, edgecolors='none', s=30, label=group_name, c=color)\n",
    "        #ax.scatter(codes[:,0], codes[:,1], codes[:,2], c=labels, label=labels)\n",
    "\n",
    "    u = np.linspace(0, np.pi, 30)\n",
    "    v = np.linspace(0, 2 * np.pi, 30)\n",
    "\n",
    "    x = np.outer(np.sin(u), np.sin(v))\n",
    "    y = np.outer(np.sin(u), np.cos(v))\n",
    "    z = np.outer(np.cos(u), np.ones_like(v))\n",
    "\n",
    "    #ax.plot_wireframe(x, y, z, rstride=2, cstride=2, alpha=0.2)\n",
    "    ax.plot_surface(x, y, z,  rstride=4, cstride=4, color='white', linewidth=0, alpha=1.)\n",
    "    plt.legend()\n",
    "    ax.view_init(30, angle)\n",
    "    #plt.show()\n",
    "    \n",
    "\n",
    "#ax.view_init(10,50)\n",
    "\n",
    "\n"
   ]
  },
  {
   "cell_type": "code",
   "execution_count": null,
   "metadata": {},
   "outputs": [],
   "source": []
  }
 ],
 "metadata": {
  "kernelspec": {
   "display_name": "Python 3",
   "language": "python",
   "name": "python3"
  },
  "language_info": {
   "codemirror_mode": {
    "name": "ipython",
    "version": 3
   },
   "file_extension": ".py",
   "mimetype": "text/x-python",
   "name": "python",
   "nbconvert_exporter": "python",
   "pygments_lexer": "ipython3",
   "version": "3.6.7"
  }
 },
 "nbformat": 4,
 "nbformat_minor": 2
}
