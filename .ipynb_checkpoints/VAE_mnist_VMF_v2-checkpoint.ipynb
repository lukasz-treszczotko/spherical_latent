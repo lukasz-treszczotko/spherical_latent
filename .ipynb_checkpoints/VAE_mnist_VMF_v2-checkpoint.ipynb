{
 "cells": [
  {
   "cell_type": "markdown",
   "metadata": {},
   "source": [
    "# VAEs in Keras plus my additional notes"
   ]
  },
  {
   "cell_type": "code",
   "execution_count": 1,
   "metadata": {
    "scrolled": true
   },
   "outputs": [
    {
     "name": "stderr",
     "output_type": "stream",
     "text": [
      "Using TensorFlow backend.\n"
     ]
    }
   ],
   "source": [
    "import keras\n",
    "keras.__version__\n",
    "\n",
    "import numpy as np\n",
    "import tensorflow as tf\n",
    "import tensorflow_probability as tfp\n",
    "import tensorflow as tf\n",
    "import matplotlib.pyplot as plt\n",
    "\n",
    "tfd = tfp.distributions\n",
    "\n",
    "from keras import backend as K\n",
    "from keras import layers\n",
    "from keras.models import Model\n",
    "import numpy as np\n",
    "K.clear_session()"
   ]
  },
  {
   "cell_type": "code",
   "execution_count": 2,
   "metadata": {
    "scrolled": true
   },
   "outputs": [
    {
     "name": "stdout",
     "output_type": "stream",
     "text": [
      "WARNING:tensorflow:From /usr/local/lib/python3.6/dist-packages/tensorflow/python/framework/op_def_library.py:263: colocate_with (from tensorflow.python.framework.ops) is deprecated and will be removed in a future version.\n",
      "Instructions for updating:\n",
      "Colocations handled automatically by placer.\n"
     ]
    }
   ],
   "source": [
    "img_shape = (28, 28, 1)\n",
    "batch_size = 32\n",
    "latent_dim = 3\n",
    "\n",
    "input_img = keras.Input(shape=img_shape)\n",
    "encoder_input = input_img\n",
    "\n",
    "x = layers.Conv2D(32, 3, padding='same', \n",
    "                  activation='relu')(input_img)\n",
    "x = layers.Conv2D(64, 3, padding='same',\n",
    "                 activation='relu',\n",
    "                 strides=(2,2))(x)\n",
    "x = layers.Conv2D(64, 3,\n",
    "                  padding='same', activation='relu')(x)\n",
    "x = layers.Conv2D(64, 3,\n",
    "                  padding='same', activation='relu')(x)\n",
    "shape_before_flattening = K.int_shape(x)\n",
    "# int_shape returns a tuple of ints or Nones\n",
    "\n",
    "x = layers.Flatten()(x)\n",
    "x = layers.Dense(32, activation='relu')(x)\n",
    "\n"
   ]
  },
  {
   "cell_type": "code",
   "execution_count": 3,
   "metadata": {},
   "outputs": [],
   "source": [
    "z_mean = layers.Dense(latent_dim, activation=None)(x)\n",
    "def normalize(args):\n",
    "    z_mean = args\n",
    "    return tf.nn.l2_normalize(z_mean, axis=-1)\n",
    "\n",
    "z_mu = layers.Lambda(normalize)(z_mean)\n",
    "encoder = Model(encoder_input, z_mu)\n",
    "z_log_var = layers.Dense(latent_dim)(x)\n",
    "z_log_concentration = layers.Dense(1)(x)"
   ]
  },
  {
   "cell_type": "code",
   "execution_count": 4,
   "metadata": {},
   "outputs": [
    {
     "name": "stdout",
     "output_type": "stream",
     "text": [
      "WARNING:tensorflow:From /home/lukasz/Desktop/Machine Learning/Keras/spherical_latent_space/hyperspherical_vae/distributions/von_mises_fisher.py:245: RegisterKL.__init__ (from tensorflow.python.ops.distributions.kullback_leibler) is deprecated and will be removed after 2019-01-01.\n",
      "Instructions for updating:\n",
      "The TensorFlow Distributions library has moved to TensorFlow Probability (https://github.com/tensorflow/probability). You should update all references to use `tfp.distributions` instead of `tf.distributions`.\n"
     ]
    }
   ],
   "source": [
    "from hyperspherical_vae.distributions import VonMisesFisher as VMS\n",
    "\n",
    "vmf = tfd.VonMisesFisher\n",
    "vmf_2 = VMS"
   ]
  },
  {
   "cell_type": "code",
   "execution_count": null,
   "metadata": {},
   "outputs": [],
   "source": [
    "def sampling(args):\n",
    "    z_mu, z_log_concentration = args\n",
    "    vmf_current = vmf(mean_direction=z_mu, \n",
    "                      concentration=K.reshape(K.exp(z_log_concentration), (-1,)))\n",
    "    \n",
    "    return vmf_current.sample()#sample_shape=z_mu.shape)"
   ]
  },
  {
   "cell_type": "markdown",
   "metadata": {},
   "source": [
    "### Note: An example of Lambda layer"
   ]
  },
  {
   "cell_type": "code",
   "execution_count": null,
   "metadata": {},
   "outputs": [],
   "source": [
    "z = layers.Lambda(sampling)([z_mu, z_log_concentration])\n",
    "# the syntax is as follows:\n",
    "# (sampling) is  the function apllied to the layers\n",
    "# [z_mean, z_log_var] is the list of input layers"
   ]
  },
  {
   "cell_type": "code",
   "execution_count": null,
   "metadata": {},
   "outputs": [],
   "source": [
    "decoder_input = layers.Input(K.int_shape(z)[1:])\n",
    "# [1:] means that we skip the batch size, witch we do not\n",
    "# inclute in Input layer\n",
    "\n",
    "# Upsample to the correct number of units\n",
    "w = layers.Dense(np.prod(shape_before_flattening[1:]),\n",
    "                activation='relu')(decoder_input)\n",
    "\n",
    "# Reshape into an image of the same shape as before our last `Flatten` \n",
    "w = layers.Reshape(shape_before_flattening[1:])(w)\n",
    "\n",
    "# Deconvolution\n",
    "w = layers.Conv2DTranspose(32, 3,\n",
    "                          padding='same',\n",
    "                          activation='relu',\n",
    "                          strides=(2,2))(w)\n",
    "w = layers.Conv2DTranspose(1, 3,\n",
    "                          padding='same', activation='sigmoid')(w)\n",
    "\n",
    "decoder = Model(decoder_input, w)\n",
    "z_decoded = decoder(z)\n",
    "\n"
   ]
  },
  {
   "cell_type": "markdown",
   "metadata": {},
   "source": [
    "### Note: Custom Keras layer example"
   ]
  },
  {
   "cell_type": "code",
   "execution_count": null,
   "metadata": {},
   "outputs": [],
   "source": [
    "class CustomVariationalLayer(keras.layers.Layer):\n",
    "    \n",
    "    def vae_loss(self, x, z_decoded):\n",
    "        x = K.flatten(x)\n",
    "        z_decoded = K.flatten(z_decoded)\n",
    "        # now the tensor shape is (batch_size, flattened\n",
    "        xent_loss = keras.metrics.binary_crossentropy(x, z_decoded)\n",
    "        #js_loss = None\n",
    "        #w_loss = 5e-4 * K.mean(K.square(z_mean) + 1 +  K.exp(z_log_var) - 2 * K.sqrt(K.exp(z_log_var)))\n",
    "        #kl_loss = -5e-4 * K.mean(1 + z_log_var - K.square(z_mean) - K.exp(z_log_var), axis=-1)\n",
    "        kl_vmf_loss = 0.0005 * K.sqrt(K.maximum(K.exp(z_log_concentration), 10))\n",
    "        return K.mean(xent_loss + kl_vmf_loss)\n",
    "        #return kl_vmf_loss\n",
    "    def call(self, inputs):\n",
    "        x = inputs[0]\n",
    "        z_decoded = inputs[1]\n",
    "        loss = self.vae_loss(x, z_decoded)\n",
    "        self.add_loss(loss, inputs=inputs)\n",
    "        return x                      "
   ]
  },
  {
   "cell_type": "code",
   "execution_count": null,
   "metadata": {},
   "outputs": [],
   "source": [
    "y = CustomVariationalLayer()([input_img, z_decoded])"
   ]
  },
  {
   "cell_type": "code",
   "execution_count": null,
   "metadata": {},
   "outputs": [
    {
     "name": "stdout",
     "output_type": "stream",
     "text": [
      "__________________________________________________________________________________________________\n",
      "Layer (type)                    Output Shape         Param #     Connected to                     \n",
      "==================================================================================================\n",
      "input_1 (InputLayer)            (None, 28, 28, 1)    0                                            \n",
      "__________________________________________________________________________________________________\n",
      "conv2d_1 (Conv2D)               (None, 28, 28, 32)   320         input_1[0][0]                    \n",
      "__________________________________________________________________________________________________\n",
      "conv2d_2 (Conv2D)               (None, 14, 14, 64)   18496       conv2d_1[0][0]                   \n",
      "__________________________________________________________________________________________________\n",
      "conv2d_3 (Conv2D)               (None, 14, 14, 64)   36928       conv2d_2[0][0]                   \n",
      "__________________________________________________________________________________________________\n",
      "conv2d_4 (Conv2D)               (None, 14, 14, 64)   36928       conv2d_3[0][0]                   \n",
      "__________________________________________________________________________________________________\n",
      "flatten_1 (Flatten)             (None, 12544)        0           conv2d_4[0][0]                   \n",
      "__________________________________________________________________________________________________\n",
      "dense_1 (Dense)                 (None, 32)           401440      flatten_1[0][0]                  \n",
      "__________________________________________________________________________________________________\n",
      "dense_2 (Dense)                 (None, 3)            99          dense_1[0][0]                    \n",
      "__________________________________________________________________________________________________\n",
      "lambda_1 (Lambda)               (None, 3)            0           dense_2[0][0]                    \n",
      "__________________________________________________________________________________________________\n",
      "dense_4 (Dense)                 (None, 1)            33          dense_1[0][0]                    \n",
      "__________________________________________________________________________________________________\n",
      "lambda_2 (Lambda)               (None, 3)            0           lambda_1[0][0]                   \n",
      "                                                                 dense_4[0][0]                    \n",
      "__________________________________________________________________________________________________\n",
      "model_2 (Model)                 (None, 28, 28, 1)    68929       lambda_2[0][0]                   \n",
      "__________________________________________________________________________________________________\n",
      "custom_variational_layer_1 (Cus [(None, 28, 28, 1),  0           input_1[0][0]                    \n",
      "                                                                 model_2[1][0]                    \n",
      "==================================================================================================\n",
      "Total params: 563,173\n",
      "Trainable params: 563,173\n",
      "Non-trainable params: 0\n",
      "__________________________________________________________________________________________________\n"
     ]
    }
   ],
   "source": [
    "from keras.datasets import mnist\n",
    "\n",
    "vae = Model(input_img, y)\n",
    "vae.compile(optimizer='adam', loss=None)\n",
    "vae.summary()"
   ]
  },
  {
   "cell_type": "code",
   "execution_count": null,
   "metadata": {
    "scrolled": true
   },
   "outputs": [
    {
     "name": "stdout",
     "output_type": "stream",
     "text": [
      "Train on 60000 samples, validate on 10000 samples\n",
      "Epoch 1/10\n",
      "60000/60000 [==============================] - 59s 987us/step - loss: 0.2204 - val_loss: 0.2046\n",
      "Epoch 2/10\n",
      "60000/60000 [==============================] - 56s 938us/step - loss: 0.2013 - val_loss: 0.1989\n",
      "Epoch 3/10\n",
      "36000/60000 [=================>............] - ETA: 23s - loss: 0.1972"
     ]
    }
   ],
   "source": [
    "# Train the VAE on MNIST digits\n",
    "(x_train, _), (x_test, y_test) = mnist.load_data()\n",
    "\n",
    "x_train = x_train.astype('float32') / 255.\n",
    "x_train = x_train.reshape(x_train.shape + (1,))\n",
    "x_test = x_test.astype('float32') / 255.\n",
    "x_test = x_test.reshape(x_test.shape + (1,))\n",
    "\n",
    "vae.fit(x=x_train, y=None,\n",
    "        shuffle=True,\n",
    "        epochs=10,\n",
    "        batch_size=batch_size,\n",
    "        validation_data=(x_test, None))"
   ]
  },
  {
   "cell_type": "markdown",
   "metadata": {},
   "source": [
    "## Plotting the generated samples"
   ]
  },
  {
   "cell_type": "code",
   "execution_count": null,
   "metadata": {},
   "outputs": [],
   "source": [
    "z_sample = tfd.VonMisesFisher(mean_direction=[1., 0., 0.], \n",
    "                              concentration=0.).sample(sample_shape=(100))\n",
    "sess = K.get_session()\n",
    "z_sample_ = sess.run(z_sample)\n",
    "generated = decoder.predict(z_sample_, batch_size=batch_size)"
   ]
  },
  {
   "cell_type": "code",
   "execution_count": null,
   "metadata": {},
   "outputs": [],
   "source": [
    "fig, axes = plt.subplots(10, 10, figsize=(10,10))\n",
    "for j in range(10*10):\n",
    "    axes[j//10, j%10].imshow(generated[j,:,:,0], cmap='binary')\n",
    "    axes[j//10, j%10].set_xticks([])\n",
    "    axes[j//10, j%10].set_yticks([])\n",
    "plt.tight_layout()\n",
    "plt.show()"
   ]
  },
  {
   "cell_type": "markdown",
   "metadata": {},
   "source": [
    "## Plotting latent space representation"
   ]
  },
  {
   "cell_type": "code",
   "execution_count": null,
   "metadata": {},
   "outputs": [],
   "source": [
    "num_samples =2000\n",
    "samples = x_test[:num_samples]\n",
    "codes = encoder.predict(samples)\n",
    "labels = y_test[:num_samples]"
   ]
  },
  {
   "cell_type": "code",
   "execution_count": null,
   "metadata": {},
   "outputs": [],
   "source": [
    "from mpl_toolkits.mplot3d import Axes3D\n",
    "from matplotlib import cm\n",
    "#%matplotlib notebook\n",
    "\n",
    "\n",
    "    \n",
    "colors = ['red', 'orange', 'green', 'yellow', 'plum', \n",
    "        'navy', 'salmon', 'skyblue', 'darkred', 'aqua']\n",
    "\n",
    "data = []\n",
    "group_names = []\n",
    "for j in np.unique(labels):\n",
    "    data.append(codes[labels.reshape(-1)==j])\n",
    "    group_names.append(j)"
   ]
  },
  {
   "cell_type": "code",
   "execution_count": null,
   "metadata": {},
   "outputs": [],
   "source": [
    "\n",
    "fig = plt.figure(figsize=(6,6))\n",
    "ax = Axes3D(fig)\n",
    "\n",
    "for datapart, group_name, color in zip (data, group_names, colors):\n",
    "    x, y, z = datapart[:,0], datapart[:,1], datapart[:,2]\n",
    "    ax.scatter(x, y, z, alpha=0.8, edgecolors='none', s=30, label=group_name, c=color)\n",
    "    #ax.scatter(codes[:,0], codes[:,1], codes[:,2], c=labels, label=labels)\n",
    "\n",
    "u = np.linspace(0, np.pi, 30)\n",
    "v = np.linspace(0, 2 * np.pi, 30)\n",
    "\n",
    "x = np.outer(np.sin(u), np.sin(v))\n",
    "y = np.outer(np.sin(u), np.cos(v))\n",
    "z = np.outer(np.cos(u), np.ones_like(v))\n",
    "\n",
    "#ax.plot_wireframe(x, y, z, rstride=2, cstride=2, alpha=0.2)\n",
    "\n",
    "plt.legend()\n",
    "ax.set_xticks([])\n",
    "ax.set_yticks([])\n",
    "ax.set_zticks([])\n",
    "\n",
    "ax.plot_surface(x, y, z,  rstride=4, cstride=4, color='white', linewidth=0, alpha=1.)\n",
    "ax.view_init(30, 19)\n",
    "plt.show()"
   ]
  },
  {
   "cell_type": "raw",
   "metadata": {},
   "source": [
    "for angle in range(0,360,60):\n",
    "    fig = plt.figure(figsize=(8,8))\n",
    "    ax = ax = Axes3D(fig)\n",
    "    #ax.view_init(30, angle)\n",
    "    for datapart, group_name, color in zip (data, group_names, colors):\n",
    "        x, y, z = datapart[:,0], datapart[:,1], datapart[:,2]\n",
    "        ax.scatter(x, y, z, alpha=0.8, edgecolors='none', s=30, label=group_name, c=color)\n",
    "        #ax.scatter(codes[:,0], codes[:,1], codes[:,2], c=labels, label=labels)\n",
    "\n",
    "    u = np.linspace(0, np.pi, 30)\n",
    "    v = np.linspace(0, 2 * np.pi, 30)\n",
    "\n",
    "    x = np.outer(np.sin(u), np.sin(v))\n",
    "    y = np.outer(np.sin(u), np.cos(v))\n",
    "    z = np.outer(np.cos(u), np.ones_like(v))\n",
    "\n",
    "    #ax.plot_wireframe(x, y, z, rstride=2, cstride=2, alpha=0.2)\n",
    "    ax.plot_surface(x, y, z,  rstride=4, cstride=4, color='white', linewidth=0, alpha=1.)\n",
    "    plt.legend()\n",
    "    ax.view_init(30, angle)\n",
    "    #plt.show()\n",
    "    \n",
    "\n",
    "#ax.view_init(10,50)\n",
    "\n",
    "\n"
   ]
  },
  {
   "cell_type": "code",
   "execution_count": null,
   "metadata": {},
   "outputs": [],
   "source": []
  }
 ],
 "metadata": {
  "kernelspec": {
   "display_name": "Python 3",
   "language": "python",
   "name": "python3"
  },
  "language_info": {
   "codemirror_mode": {
    "name": "ipython",
    "version": 3
   },
   "file_extension": ".py",
   "mimetype": "text/x-python",
   "name": "python",
   "nbconvert_exporter": "python",
   "pygments_lexer": "ipython3",
   "version": "3.6.7"
  }
 },
 "nbformat": 4,
 "nbformat_minor": 2
}
